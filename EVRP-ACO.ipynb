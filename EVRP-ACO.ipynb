{
 "cells": [
  {
   "cell_type": "markdown",
   "metadata": {},
   "source": [
    "# Electric Vehicle Routing Problem using ACO Algorithm"
   ]
  },
  {
   "cell_type": "code",
   "execution_count": 1,
   "metadata": {},
   "outputs": [
    {
     "name": "stdout",
     "output_type": "stream",
     "text": [
      "Requirement already satisfied: osmnx in c:\\users\\rablo\\anaconda3\\lib\\site-packages (1.1.1)\n",
      "Requirement already satisfied: matplotlib>=3.3 in c:\\users\\rablo\\anaconda3\\lib\\site-packages (from osmnx) (3.3.2)\n",
      "Requirement already satisfied: Shapely>=1.7 in c:\\users\\rablo\\anaconda3\\lib\\site-packages (from osmnx) (1.8.0)\n",
      "Requirement already satisfied: networkx>=2.5 in c:\\users\\rablo\\anaconda3\\lib\\site-packages (from osmnx) (2.5)\n",
      "Requirement already satisfied: requests>=2.25 in c:\\users\\rablo\\anaconda3\\lib\\site-packages (from osmnx) (2.26.0)\n",
      "Requirement already satisfied: pyproj>=2.6 in c:\\users\\rablo\\anaconda3\\lib\\site-packages (from osmnx) (3.2.1)\n",
      "Requirement already satisfied: Rtree>=0.9 in c:\\users\\rablo\\anaconda3\\lib\\site-packages (from osmnx) (0.9.7)\n",
      "Requirement already satisfied: pandas>=1.1 in c:\\users\\rablo\\anaconda3\\lib\\site-packages (from osmnx) (1.1.3)\n",
      "Requirement already satisfied: geopandas>=0.9 in c:\\users\\rablo\\anaconda3\\lib\\site-packages (from osmnx) (0.10.2)\n",
      "Requirement already satisfied: numpy>=1.19 in c:\\users\\rablo\\anaconda3\\lib\\site-packages (from osmnx) (1.19.2)\n",
      "Requirement already satisfied: kiwisolver>=1.0.1 in c:\\users\\rablo\\anaconda3\\lib\\site-packages (from matplotlib>=3.3->osmnx) (1.3.0)\n",
      "Requirement already satisfied: cycler>=0.10 in c:\\users\\rablo\\anaconda3\\lib\\site-packages (from matplotlib>=3.3->osmnx) (0.10.0)\n",
      "Requirement already satisfied: pillow>=6.2.0 in c:\\users\\rablo\\anaconda3\\lib\\site-packages (from matplotlib>=3.3->osmnx) (8.0.1)\n",
      "Requirement already satisfied: pyparsing!=2.0.4,!=2.1.2,!=2.1.6,>=2.0.3 in c:\\users\\rablo\\anaconda3\\lib\\site-packages (from matplotlib>=3.3->osmnx) (2.4.7)\n",
      "Requirement already satisfied: python-dateutil>=2.1 in c:\\users\\rablo\\anaconda3\\lib\\site-packages (from matplotlib>=3.3->osmnx) (2.8.1)\n",
      "Requirement already satisfied: certifi>=2020.06.20 in c:\\users\\rablo\\anaconda3\\lib\\site-packages (from matplotlib>=3.3->osmnx) (2020.6.20)\n",
      "Requirement already satisfied: decorator>=4.3.0 in c:\\users\\rablo\\anaconda3\\lib\\site-packages (from networkx>=2.5->osmnx) (4.4.2)\n",
      "Requirement already satisfied: charset-normalizer~=2.0.0; python_version >= \"3\" in c:\\users\\rablo\\anaconda3\\lib\\site-packages (from requests>=2.25->osmnx) (2.0.7)\n",
      "Requirement already satisfied: urllib3<1.27,>=1.21.1 in c:\\users\\rablo\\anaconda3\\lib\\site-packages (from requests>=2.25->osmnx) (1.25.11)\n",
      "Requirement already satisfied: idna<4,>=2.5; python_version >= \"3\" in c:\\users\\rablo\\anaconda3\\lib\\site-packages (from requests>=2.25->osmnx) (2.10)\n",
      "Requirement already satisfied: pytz>=2017.2 in c:\\users\\rablo\\anaconda3\\lib\\site-packages (from pandas>=1.1->osmnx) (2020.1)\n",
      "Requirement already satisfied: fiona>=1.8 in c:\\users\\rablo\\anaconda3\\lib\\site-packages (from geopandas>=0.9->osmnx) (1.8.20)\n",
      "Requirement already satisfied: six in c:\\users\\rablo\\anaconda3\\lib\\site-packages (from cycler>=0.10->matplotlib>=3.3->osmnx) (1.16.0)\n",
      "Requirement already satisfied: cligj>=0.5 in c:\\users\\rablo\\anaconda3\\lib\\site-packages (from fiona>=1.8->geopandas>=0.9->osmnx) (0.7.2)\n",
      "Requirement already satisfied: munch in c:\\users\\rablo\\anaconda3\\lib\\site-packages (from fiona>=1.8->geopandas>=0.9->osmnx) (2.5.0)\n",
      "Requirement already satisfied: attrs>=17 in c:\\users\\rablo\\anaconda3\\lib\\site-packages (from fiona>=1.8->geopandas>=0.9->osmnx) (20.3.0)\n",
      "Requirement already satisfied: gdal~=3.3.0 in c:\\users\\rablo\\anaconda3\\lib\\site-packages (from fiona>=1.8->geopandas>=0.9->osmnx) (3.3.3)\n",
      "Requirement already satisfied: click-plugins>=1.0 in c:\\users\\rablo\\anaconda3\\lib\\site-packages (from fiona>=1.8->geopandas>=0.9->osmnx) (1.1.1)\n",
      "Requirement already satisfied: setuptools in c:\\users\\rablo\\anaconda3\\lib\\site-packages (from fiona>=1.8->geopandas>=0.9->osmnx) (50.3.1.post20201107)\n",
      "Requirement already satisfied: click>=4.0 in c:\\users\\rablo\\anaconda3\\lib\\site-packages (from fiona>=1.8->geopandas>=0.9->osmnx) (7.1.2)\n",
      "Requirement already satisfied: networkx in c:\\users\\rablo\\anaconda3\\lib\\site-packages (2.5)\n",
      "Requirement already satisfied: decorator>=4.3.0 in c:\\users\\rablo\\anaconda3\\lib\\site-packages (from networkx) (4.4.2)\n"
     ]
    }
   ],
   "source": [
    "!pip install osmnx\n",
    "!pip install networkx"
   ]
  },
  {
   "cell_type": "code",
   "execution_count": null,
   "metadata": {},
   "outputs": [],
   "source": [
    "import ACOforEVRP"
   ]
  },
  {
   "cell_type": "code",
   "execution_count": null,
   "metadata": {},
   "outputs": [],
   "source": [
    "ins = Instancia(\"instancias/ccp.evrp\")\n",
    "modelo = colonia(ins, poblacion = 30 , iterMax= 1000)\n",
    "modelo.ejecutar()\n",
    "modelo.graficarLog()\n",
    "modelo.visualizar(s_mejor)\n",
    "modelo.visualizarCiudad(s_mejor)\n",
    "if modelo.visualizarRuta:\n",
    "    modelo.graficar"
   ]
  }
 ],
 "metadata": {
  "interpreter": {
   "hash": "f07a386893482f112a8bffa52a5b7e4c7da76d4fc8ca5cc6373cde784dc8979b"
  },
  "kernelspec": {
   "display_name": "Python 3.8.5 ('base')",
   "language": "python",
   "name": "python3"
  },
  "language_info": {
   "codemirror_mode": {
    "name": "ipython",
    "version": 3
   },
   "file_extension": ".py",
   "mimetype": "text/x-python",
   "name": "python",
   "nbconvert_exporter": "python",
   "pygments_lexer": "ipython3",
   "version": "3.9.7"
  },
  "orig_nbformat": 4
 },
 "nbformat": 4,
 "nbformat_minor": 2
}
